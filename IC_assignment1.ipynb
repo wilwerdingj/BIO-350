{
 "cells": [
  {
   "cell_type": "markdown",
   "id": "866723fe",
   "metadata": {},
   "source": [
    "Make a definition for a diference equation "
   ]
  },
  {
   "cell_type": "code",
   "execution_count": null,
   "id": "c46ec419",
   "metadata": {},
   "outputs": [],
   "source": [
    "def N_iterative(N_0, p, number_iterations):\n",
    "N_values=[N_0]\n",
    "current_N=N_0\n",
    "for _ in range(number_iterations):\n",
    "    current_N = current_N + p\n",
    "    N_values.append(current_N)\n",
    "    return N_values\n",
    "    \n",
    "    \n"
   ]
  }
 ],
 "metadata": {
  "kernelspec": {
   "display_name": "IC_1",
   "language": "python",
   "name": "python3"
  },
  "language_info": {
   "name": "python",
   "version": "3.13.5"
  }
 },
 "nbformat": 4,
 "nbformat_minor": 5
}
