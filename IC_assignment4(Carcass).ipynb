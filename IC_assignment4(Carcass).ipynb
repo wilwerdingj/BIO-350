{
 "cells": [
  {
   "cell_type": "code",
   "execution_count": 6,
   "id": "aae0630c",
   "metadata": {},
   "outputs": [],
   "source": [
    "import numpy as np\n",
    "from scipy.integrate import odeint\n",
    "import matplotlib.pyplot as plt\n",
    "\n",
    "#install required python packages if not already installed"
   ]
  },
  {
   "cell_type": "code",
   "execution_count": 8,
   "id": "374aedcc",
   "metadata": {},
   "outputs": [
    {
     "ename": "IndentationError",
     "evalue": "unexpected indent (3662605748.py, line 5)",
     "output_type": "error",
     "traceback": [
      "  \u001b[36mCell\u001b[39m\u001b[36m \u001b[39m\u001b[32mIn[8]\u001b[39m\u001b[32m, line 5\u001b[39m\n\u001b[31m    \u001b[39m\u001b[31mS = x[1]\u001b[39m\n    ^\n\u001b[31mIndentationError\u001b[39m\u001b[31m:\u001b[39m unexpected indent\n"
     ]
    }
   ],
   "source": [
    "\n",
    "SICZ= function(times, x, parameters)\n",
    "  # Simulate SIR\n",
    "\n",
    "  # Extract state variables\n",
    "  S = x[1]\n",
    "  I = x[2]\n",
    "  C = x[3]\n",
    "  Z = x[4]\n",
    "  \n",
    "  N = S+I+C\n",
    "  \n",
    "  \n",
    "  # Extract parameters\n",
    "  beta_p = parameters['beta_p']#transmission \n",
    "  beta_c = parameters['beta_c']#transmission from carcass\n",
    "  beta_z = parameters['beta_z']#transmission from zoospore pool\n",
    "  a = parameters['a']# disease induced death rate\n",
    "  lamdaC = parameters ['lamdaC']# decay of carcass\n",
    "  sigma = parameters ['sigma']# shed rate from infected\n",
    "  mu = parameters ['mu']# shed rate from carcass\n",
    "  lamdaZ = parameters ['lamdaZ']# decay rate of zoospores\n",
    "  r= parameters ['r'] # recovery rate \n",
    "  # Differential equations\n",
    "  dS = -(S*beta_p*(I/N))-(S*beta_c*C)-(S*beta_z*Z)\n",
    "  dI = (S*beta_p*(I/N))+(S*beta_c*C)+(S*beta_z*Z)-(I*a)\n",
    "  dC = (I*a)-(C*lamdaC)\n",
    "  dZ =  (I*sigma)+(C*mu)-(Z*lamdaZ)\n",
    "  \n",
    "  return(list(c(dS,dI,dC,dZ)))\n",
    "  "
   ]
  },
  {
   "cell_type": "code",
   "execution_count": null,
   "id": "37809120",
   "metadata": {},
   "outputs": [],
   "source": []
  }
 ],
 "metadata": {
  "kernelspec": {
   "display_name": "IC_Assignments",
   "language": "python",
   "name": "python3"
  },
  "language_info": {
   "codemirror_mode": {
    "name": "ipython",
    "version": 3
   },
   "file_extension": ".py",
   "mimetype": "text/x-python",
   "name": "python",
   "nbconvert_exporter": "python",
   "pygments_lexer": "ipython3",
   "version": "3.13.5"
  }
 },
 "nbformat": 4,
 "nbformat_minor": 5
}
