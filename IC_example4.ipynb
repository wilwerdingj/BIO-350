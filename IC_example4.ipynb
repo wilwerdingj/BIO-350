{
 "cells": [
  {
   "cell_type": "code",
   "execution_count": null,
   "id": "8bc027bf",
   "metadata": {},
   "outputs": [],
   "source": [
    "import matplotlib.pyplot as plt\n",
    "import numpy as np\n",
    "#download so we can create graph"
   ]
  },
  {
   "cell_type": "code",
   "execution_count": null,
   "id": "0cfc60e7",
   "metadata": {},
   "outputs": [],
   "source": []
  }
 ],
 "metadata": {
  "kernelspec": {
   "display_name": "IC_Assignments",
   "language": "python",
   "name": "python3"
  },
  "language_info": {
   "name": "python",
   "version": "3.13.5"
  }
 },
 "nbformat": 4,
 "nbformat_minor": 5
}
